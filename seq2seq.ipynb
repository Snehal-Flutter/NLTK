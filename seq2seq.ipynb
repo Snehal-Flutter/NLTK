{
  "nbformat": 4,
  "nbformat_minor": 0,
  "metadata": {
    "accelerator": "GPU",
    "colab": {
      "name": "seq2seq.ipynb",
      "provenance": [],
      "collapsed_sections": []
    },
    "kernelspec": {
      "display_name": "Python 3",
      "name": "python3"
    }
  },
  "cells": [
    {
      "cell_type": "code",
      "metadata": {
        "id": "ogc17wl3LrwU"
      },
      "source": [
        "import tensorflow as tf\n",
        "from tensorflow import keras\n",
        "from keras.layers import *\n",
        "from keras.models import *\n",
        "from keras.utils import *\n",
        "from keras.initializers import *\n",
        "from keras.optimizers import * "
      ],
      "execution_count": null,
      "outputs": []
    },
    {
      "cell_type": "code",
      "metadata": {
        "id": "dThdfAvHLt-s"
      },
      "source": [
        "batch_size = 64  \n",
        "epochs = 100  \n",
        "latent_dim = 256  \n",
        "num_samples = 10000  \n",
        "# set the data_path accordingly\n",
        "data_path = \"spoc-train.txt\" "
      ],
      "execution_count": null,
      "outputs": []
    },
    {
      "cell_type": "code",
      "metadata": {
        "id": "I_TakCjHMPnz"
      },
      "source": [
        "input_texts = []\n",
        "target_texts = []\n",
        "input_characters = set()\n",
        "target_characters = set()\n",
        "with open(data_path, \"r\", encoding=\"utf-8\") as f:\n",
        "    lines = f.read().split(\"\\n\")"
      ],
      "execution_count": null,
      "outputs": []
    },
    {
      "cell_type": "code",
      "metadata": {
        "colab": {
          "base_uri": "https://localhost:8080/"
        },
        "id": "7bL-dPXhMSqV",
        "outputId": "7d1b4d8a-d1f0-409e-fdcd-02e6ee133f73"
      },
      "source": [
        "for line in lines[: min(num_samples, len(lines) - 1)]:\n",
        "    input_text, target_text = line.split(\"\\t\")\n",
        "    ############### A ###############\n",
        "    target_text = \"\\t\" + target_text + \"\\n\"\n",
        "    input_texts.append(input_text)\n",
        "    target_texts.append(target_text)\n",
        "    ############### B ###############\n",
        "    for char in input_text:\n",
        "        if char not in input_characters:\n",
        "            input_characters.add(char)\n",
        "    for char in target_text:\n",
        "        if char not in target_characters:\n",
        "            target_characters.add(char)\n",
        "print(input_characters)\n",
        "print(target_characters)"
      ],
      "execution_count": null,
      "outputs": [
        {
          "output_type": "stream",
          "text": [
            "{'k', 'Y', 'T', 'P', 'g', 'o', 'O', 'S', '?', 'w', 'x', 'p', '\"', '6', 'H', '2', 'N', '>', 'q', 'E', \"'\", '-', '.', 'G', '_', 'W', '+', 'd', '=', '3', 'i', 'C', '1', 'Q', 'z', '}', 'D', 'a', 'f', 'y', '*', '{', '4', 'n', '5', 'Z', 'u', '9', 'I', ')', '0', ';', '[', '&', '/', '7', 'b', 'A', '<', 'h', ']', 'L', ':', ' ', 'c', '\\\\', '!', 'j', 's', 'U', '8', 'F', ',', '(', 'l', '%', 'J', 'e', 'v', 'M', 'B', 'X', 'R', 'm', '|', 'V', 't', 'K', 'r'}\n",
            "{'k', 'Y', 'T', 'P', 'g', 'o', 'O', 'S', '?', 'w', 'x', 'p', '\"', '6', 'H', '2', 'N', '>', 'q', 'E', \"'\", '-', '.', 'G', '\\t', '_', 'W', '+', 'd', '=', '3', 'i', 'C', '1', 'Q', '}', 'z', 'D', 'a', 'f', 'y', '*', '{', '4', 'n', '5', 'Z', 'u', '9', 'I', ')', ';', '0', '[', '&', '/', '7', 'b', 'A', '<', 'h', ']', 'L', ':', '\\n', ' ', 'c', '\\\\', '!', 'j', 's', 'U', '8', 'F', '(', ',', 'l', '%', 'J', 'e', 'v', 'M', 'B', 'X', 'R', 'm', '|', 'V', 't', 'K', 'r'}\n"
          ],
          "name": "stdout"
        }
      ]
    },
    {
      "cell_type": "code",
      "metadata": {
        "colab": {
          "base_uri": "https://localhost:8080/"
        },
        "id": "oskQCtDyMV8X",
        "outputId": "3d3715cd-e875-49bc-df7c-20af20d18291"
      },
      "source": [
        "input_characters = sorted(list(input_characters))\n",
        "target_characters = sorted(list(target_characters))\n",
        "num_encoder_tokens = len(input_characters)\n",
        "num_decoder_tokens = len(target_characters)\n",
        "max_encoder_seq_length = max([len(txt) for txt in input_texts])\n",
        "max_decoder_seq_length = max([len(txt) for txt in target_texts])\n",
        "\n",
        "print(\"No.of samples:\", len(input_texts))\n",
        "print(\"No.of unique input tokens:\", num_encoder_tokens)\n",
        "print(\"No.of unique output tokens:\", num_decoder_tokens)\n",
        "print(\"Maximum seq length for inputs:\", max_encoder_seq_length)\n",
        "print(\"Maximum seq length for outputs:\", max_decoder_seq_length)"
      ],
      "execution_count": null,
      "outputs": [
        {
          "output_type": "stream",
          "text": [
            "No.of samples: 10000\n",
            "No.of unique input tokens: 89\n",
            "No.of unique output tokens: 91\n",
            "Maximum seq length for inputs: 165\n",
            "Maximum seq length for outputs: 90\n"
          ],
          "name": "stdout"
        }
      ]
    },
    {
      "cell_type": "code",
      "metadata": {
        "colab": {
          "base_uri": "https://localhost:8080/"
        },
        "id": "PPdCKKe9MapD",
        "outputId": "ea631158-29fd-49d2-911f-f513bed166e9"
      },
      "source": [
        "input_token_index = dict([(char, i) for i, char in enumerate(input_characters)])\n",
        "target_token_index = dict([(char, i) for i, char in enumerate(target_characters)])\n",
        "\n",
        "print(input_token_index)\n",
        "print(target_token_index)"
      ],
      "execution_count": null,
      "outputs": [
        {
          "output_type": "stream",
          "text": [
            "{' ': 0, '!': 1, '\"': 2, '%': 3, '&': 4, \"'\": 5, '(': 6, ')': 7, '*': 8, '+': 9, ',': 10, '-': 11, '.': 12, '/': 13, '0': 14, '1': 15, '2': 16, '3': 17, '4': 18, '5': 19, '6': 20, '7': 21, '8': 22, '9': 23, ':': 24, ';': 25, '<': 26, '=': 27, '>': 28, '?': 29, 'A': 30, 'B': 31, 'C': 32, 'D': 33, 'E': 34, 'F': 35, 'G': 36, 'H': 37, 'I': 38, 'J': 39, 'K': 40, 'L': 41, 'M': 42, 'N': 43, 'O': 44, 'P': 45, 'Q': 46, 'R': 47, 'S': 48, 'T': 49, 'U': 50, 'V': 51, 'W': 52, 'X': 53, 'Y': 54, 'Z': 55, '[': 56, '\\\\': 57, ']': 58, '_': 59, 'a': 60, 'b': 61, 'c': 62, 'd': 63, 'e': 64, 'f': 65, 'g': 66, 'h': 67, 'i': 68, 'j': 69, 'k': 70, 'l': 71, 'm': 72, 'n': 73, 'o': 74, 'p': 75, 'q': 76, 'r': 77, 's': 78, 't': 79, 'u': 80, 'v': 81, 'w': 82, 'x': 83, 'y': 84, 'z': 85, '{': 86, '|': 87, '}': 88}\n",
            "{'\\t': 0, '\\n': 1, ' ': 2, '!': 3, '\"': 4, '%': 5, '&': 6, \"'\": 7, '(': 8, ')': 9, '*': 10, '+': 11, ',': 12, '-': 13, '.': 14, '/': 15, '0': 16, '1': 17, '2': 18, '3': 19, '4': 20, '5': 21, '6': 22, '7': 23, '8': 24, '9': 25, ':': 26, ';': 27, '<': 28, '=': 29, '>': 30, '?': 31, 'A': 32, 'B': 33, 'C': 34, 'D': 35, 'E': 36, 'F': 37, 'G': 38, 'H': 39, 'I': 40, 'J': 41, 'K': 42, 'L': 43, 'M': 44, 'N': 45, 'O': 46, 'P': 47, 'Q': 48, 'R': 49, 'S': 50, 'T': 51, 'U': 52, 'V': 53, 'W': 54, 'X': 55, 'Y': 56, 'Z': 57, '[': 58, '\\\\': 59, ']': 60, '_': 61, 'a': 62, 'b': 63, 'c': 64, 'd': 65, 'e': 66, 'f': 67, 'g': 68, 'h': 69, 'i': 70, 'j': 71, 'k': 72, 'l': 73, 'm': 74, 'n': 75, 'o': 76, 'p': 77, 'q': 78, 'r': 79, 's': 80, 't': 81, 'u': 82, 'v': 83, 'w': 84, 'x': 85, 'y': 86, 'z': 87, '{': 88, '|': 89, '}': 90}\n"
          ],
          "name": "stdout"
        }
      ]
    },
    {
      "cell_type": "code",
      "metadata": {
        "id": "fddscXJkMdgl"
      },
      "source": [
        "import numpy as np\n",
        "encoder_input_data = np.zeros(\n",
        "  (len(input_texts), max_encoder_seq_length, num_encoder_tokens), dtype=\"float32\"\n",
        ")\n",
        "\n",
        "decoder_input_data = np.zeros(\n",
        "  (len(input_texts), max_decoder_seq_length, num_decoder_tokens), dtype=\"float32\"\n",
        ")\n",
        "\n",
        "decoder_target_data = np.zeros(\n",
        "  (len(input_texts), max_decoder_seq_length, num_decoder_tokens), dtype=\"float32\"\n",
        ")\n",
        "\n",
        "for i, (input_text, target_text) in enumerate(zip(input_texts, target_texts)):\n",
        "    for t, char in enumerate(input_text):\n",
        "        encoder_input_data[i, t, input_token_index[char]] = 1.0\n",
        "    encoder_input_data[i, t + 1 :, input_token_index[\" \"]] = 1.0\n",
        "    for t, char in enumerate(target_text):\n",
        "        decoder_input_data[i, t, target_token_index[char]] = 1.0\n",
        "        if t > 0:\n",
        "            decoder_target_data[i, t - 1, target_token_index[char]] = 1.0\n",
        "    decoder_input_data[i, t + 1 :, target_token_index[\" \"]] = 1.0\n",
        "    decoder_target_data[i, t:, target_token_index[\" \"]] = 1.0"
      ],
      "execution_count": null,
      "outputs": []
    },
    {
      "cell_type": "code",
      "metadata": {
        "id": "dRmt-LLAMh0V"
      },
      "source": [
        "from keras.models import Model\n",
        "from keras.layers import Input, LSTM, Dense\n",
        "import numpy as np"
      ],
      "execution_count": null,
      "outputs": []
    },
    {
      "cell_type": "code",
      "metadata": {
        "id": "BFoyvXZ9M7WY"
      },
      "source": [
        "encoder_inputs = keras.Input(shape=(None, num_encoder_tokens))\n",
        "encoder = keras.layers.LSTM(latent_dim, return_state=True)\n",
        "encoder_outputs, state_h, state_c = encoder(encoder_inputs)\n",
        "\n",
        "encoder_states = [state_h, state_c]"
      ],
      "execution_count": null,
      "outputs": []
    },
    {
      "cell_type": "code",
      "metadata": {
        "id": "vEAUhwR-NLzp"
      },
      "source": [
        "decoder_inputs = keras.Input(shape=(None, num_decoder_tokens))\n",
        "decoder_lstm = keras.layers.LSTM(latent_dim, return_sequences=True, return_state=True)\n",
        "decoder_outputs, _, _ = decoder_lstm(decoder_inputs, initial_state=encoder_states)\n",
        "decoder_dense = keras.layers.Dense(num_decoder_tokens, activation=\"softmax\")\n",
        "decoder_outputs = decoder_dense(decoder_outputs)"
      ],
      "execution_count": null,
      "outputs": []
    },
    {
      "cell_type": "code",
      "metadata": {
        "colab": {
          "base_uri": "https://localhost:8080/"
        },
        "id": "XQvBlHChNOj_",
        "outputId": "25653a52-7560-4bb3-e59e-df50aecee021"
      },
      "source": [
        "model = keras.Model([encoder_inputs, decoder_inputs], decoder_outputs)\n",
        "\n",
        "model.compile(optimizer=Adam(lr=0.01, beta_1=0.9, beta_2=0.999, decay=0.001), loss='categorical_crossentropy', metrics=[\"accuracy\"])\n",
        "\n",
        "model.fit(\n",
        "    [encoder_input_data, decoder_input_data],\n",
        "    decoder_target_data,\n",
        "    batch_size=batch_size,\n",
        "    epochs=epochs,\n",
        "    validation_split=0.2,\n",
        ")\n",
        "model.save(\"E2S\")"
      ],
      "execution_count": null,
      "outputs": [
        {
          "output_type": "stream",
          "text": [
            "Epoch 1/100\n",
            "125/125 [==============================] - 6s 36ms/step - loss: 1.1216 - accuracy: 0.8081 - val_loss: 0.7206 - val_accuracy: 0.8552\n",
            "Epoch 2/100\n",
            "125/125 [==============================] - 4s 30ms/step - loss: 0.7349 - accuracy: 0.8527 - val_loss: 0.6295 - val_accuracy: 0.8683\n",
            "Epoch 3/100\n",
            "125/125 [==============================] - 4s 31ms/step - loss: 0.6646 - accuracy: 0.8609 - val_loss: 0.5770 - val_accuracy: 0.8790\n",
            "Epoch 4/100\n",
            "125/125 [==============================] - 4s 31ms/step - loss: 0.6217 - accuracy: 0.8684 - val_loss: 0.5443 - val_accuracy: 0.8857\n",
            "Epoch 5/100\n",
            "125/125 [==============================] - 4s 31ms/step - loss: 0.5833 - accuracy: 0.8738 - val_loss: 0.5137 - val_accuracy: 0.8894\n",
            "Epoch 6/100\n",
            "125/125 [==============================] - 4s 31ms/step - loss: 0.5553 - accuracy: 0.8790 - val_loss: 0.4930 - val_accuracy: 0.8921\n",
            "Epoch 7/100\n",
            "125/125 [==============================] - 4s 31ms/step - loss: 0.5333 - accuracy: 0.8818 - val_loss: 0.4722 - val_accuracy: 0.8951\n",
            "Epoch 8/100\n",
            "125/125 [==============================] - 4s 31ms/step - loss: 0.5046 - accuracy: 0.8862 - val_loss: 0.4540 - val_accuracy: 0.8984\n",
            "Epoch 9/100\n",
            "125/125 [==============================] - 4s 31ms/step - loss: 0.4945 - accuracy: 0.8873 - val_loss: 0.4412 - val_accuracy: 0.9014\n",
            "Epoch 10/100\n",
            "125/125 [==============================] - 4s 31ms/step - loss: 0.4765 - accuracy: 0.8913 - val_loss: 0.4286 - val_accuracy: 0.9042\n",
            "Epoch 11/100\n",
            "125/125 [==============================] - 4s 31ms/step - loss: 0.4631 - accuracy: 0.8937 - val_loss: 0.4165 - val_accuracy: 0.9053\n",
            "Epoch 12/100\n",
            "125/125 [==============================] - 4s 31ms/step - loss: 0.4488 - accuracy: 0.8960 - val_loss: 0.4074 - val_accuracy: 0.9058\n",
            "Epoch 13/100\n",
            "125/125 [==============================] - 4s 31ms/step - loss: 0.4481 - accuracy: 0.8946 - val_loss: 0.4006 - val_accuracy: 0.9077\n",
            "Epoch 14/100\n",
            "125/125 [==============================] - 4s 31ms/step - loss: 0.4300 - accuracy: 0.8980 - val_loss: 0.3926 - val_accuracy: 0.9084\n",
            "Epoch 15/100\n",
            "125/125 [==============================] - 4s 31ms/step - loss: 0.4212 - accuracy: 0.8991 - val_loss: 0.3853 - val_accuracy: 0.9088\n",
            "Epoch 16/100\n",
            "125/125 [==============================] - 4s 31ms/step - loss: 0.4195 - accuracy: 0.8987 - val_loss: 0.3802 - val_accuracy: 0.9105\n",
            "Epoch 17/100\n",
            "125/125 [==============================] - 4s 31ms/step - loss: 0.4146 - accuracy: 0.8989 - val_loss: 0.3728 - val_accuracy: 0.9103\n",
            "Epoch 18/100\n",
            "125/125 [==============================] - 4s 31ms/step - loss: 0.4032 - accuracy: 0.9009 - val_loss: 0.3680 - val_accuracy: 0.9107\n",
            "Epoch 19/100\n",
            "125/125 [==============================] - 4s 31ms/step - loss: 0.3936 - accuracy: 0.9025 - val_loss: 0.3661 - val_accuracy: 0.9106\n",
            "Epoch 20/100\n",
            "125/125 [==============================] - 4s 31ms/step - loss: 0.3911 - accuracy: 0.9022 - val_loss: 0.3605 - val_accuracy: 0.9113\n",
            "Epoch 21/100\n",
            "125/125 [==============================] - 4s 31ms/step - loss: 0.3883 - accuracy: 0.9023 - val_loss: 0.3576 - val_accuracy: 0.9114\n",
            "Epoch 22/100\n",
            "125/125 [==============================] - 4s 31ms/step - loss: 0.3857 - accuracy: 0.9025 - val_loss: 0.3530 - val_accuracy: 0.9119\n",
            "Epoch 23/100\n",
            "125/125 [==============================] - 4s 31ms/step - loss: 0.3850 - accuracy: 0.9026 - val_loss: 0.3519 - val_accuracy: 0.9119\n",
            "Epoch 24/100\n",
            "125/125 [==============================] - 4s 31ms/step - loss: 0.3726 - accuracy: 0.9047 - val_loss: 0.3485 - val_accuracy: 0.9135\n",
            "Epoch 25/100\n",
            "125/125 [==============================] - 4s 31ms/step - loss: 0.3730 - accuracy: 0.9046 - val_loss: 0.3463 - val_accuracy: 0.9131\n",
            "Epoch 26/100\n",
            "125/125 [==============================] - 4s 31ms/step - loss: 0.3670 - accuracy: 0.9064 - val_loss: 0.3421 - val_accuracy: 0.9146\n",
            "Epoch 27/100\n",
            "125/125 [==============================] - 4s 31ms/step - loss: 0.3684 - accuracy: 0.9052 - val_loss: 0.3397 - val_accuracy: 0.9154\n",
            "Epoch 28/100\n",
            "125/125 [==============================] - 4s 31ms/step - loss: 0.3658 - accuracy: 0.9058 - val_loss: 0.3390 - val_accuracy: 0.9153\n",
            "Epoch 29/100\n",
            "125/125 [==============================] - 4s 31ms/step - loss: 0.3569 - accuracy: 0.9074 - val_loss: 0.3364 - val_accuracy: 0.9157\n",
            "Epoch 30/100\n",
            "125/125 [==============================] - 4s 31ms/step - loss: 0.3596 - accuracy: 0.9070 - val_loss: 0.3350 - val_accuracy: 0.9154\n",
            "Epoch 31/100\n",
            "125/125 [==============================] - 4s 31ms/step - loss: 0.3545 - accuracy: 0.9079 - val_loss: 0.3317 - val_accuracy: 0.9163\n",
            "Epoch 32/100\n",
            "125/125 [==============================] - 4s 31ms/step - loss: 0.3492 - accuracy: 0.9092 - val_loss: 0.3315 - val_accuracy: 0.9161\n",
            "Epoch 33/100\n",
            "125/125 [==============================] - 4s 34ms/step - loss: 0.3497 - accuracy: 0.9091 - val_loss: 0.3282 - val_accuracy: 0.9172\n",
            "Epoch 34/100\n",
            "125/125 [==============================] - 4s 31ms/step - loss: 0.3455 - accuracy: 0.9100 - val_loss: 0.3271 - val_accuracy: 0.9174\n",
            "Epoch 35/100\n",
            "125/125 [==============================] - 4s 31ms/step - loss: 0.3524 - accuracy: 0.9080 - val_loss: 0.3263 - val_accuracy: 0.9179\n",
            "Epoch 36/100\n",
            "125/125 [==============================] - 4s 31ms/step - loss: 0.3443 - accuracy: 0.9100 - val_loss: 0.3238 - val_accuracy: 0.9182\n",
            "Epoch 37/100\n",
            "125/125 [==============================] - 4s 31ms/step - loss: 0.3421 - accuracy: 0.9102 - val_loss: 0.3214 - val_accuracy: 0.9190\n",
            "Epoch 38/100\n",
            "125/125 [==============================] - 4s 31ms/step - loss: 0.3344 - accuracy: 0.9125 - val_loss: 0.3202 - val_accuracy: 0.9189\n",
            "Epoch 39/100\n",
            "125/125 [==============================] - 4s 31ms/step - loss: 0.3347 - accuracy: 0.9118 - val_loss: 0.3194 - val_accuracy: 0.9198\n",
            "Epoch 40/100\n",
            "125/125 [==============================] - 4s 31ms/step - loss: 0.3325 - accuracy: 0.9121 - val_loss: 0.3177 - val_accuracy: 0.9186\n",
            "Epoch 41/100\n",
            "125/125 [==============================] - 4s 31ms/step - loss: 0.3334 - accuracy: 0.9118 - val_loss: 0.3163 - val_accuracy: 0.9203\n",
            "Epoch 42/100\n",
            "125/125 [==============================] - 4s 31ms/step - loss: 0.3314 - accuracy: 0.9123 - val_loss: 0.3139 - val_accuracy: 0.9208\n",
            "Epoch 43/100\n",
            "125/125 [==============================] - 4s 31ms/step - loss: 0.3295 - accuracy: 0.9124 - val_loss: 0.3132 - val_accuracy: 0.9209\n",
            "Epoch 44/100\n",
            "125/125 [==============================] - 4s 31ms/step - loss: 0.3315 - accuracy: 0.9122 - val_loss: 0.3122 - val_accuracy: 0.9204\n",
            "Epoch 45/100\n",
            "125/125 [==============================] - 4s 31ms/step - loss: 0.3230 - accuracy: 0.9139 - val_loss: 0.3116 - val_accuracy: 0.9218\n",
            "Epoch 46/100\n",
            "125/125 [==============================] - 4s 31ms/step - loss: 0.3250 - accuracy: 0.9144 - val_loss: 0.3099 - val_accuracy: 0.9217\n",
            "Epoch 47/100\n",
            "125/125 [==============================] - 4s 31ms/step - loss: 0.3245 - accuracy: 0.9147 - val_loss: 0.3085 - val_accuracy: 0.9227\n",
            "Epoch 48/100\n",
            "125/125 [==============================] - 4s 31ms/step - loss: 0.3204 - accuracy: 0.9153 - val_loss: 0.3076 - val_accuracy: 0.9239\n",
            "Epoch 49/100\n",
            "125/125 [==============================] - 4s 31ms/step - loss: 0.3213 - accuracy: 0.9153 - val_loss: 0.3066 - val_accuracy: 0.9219\n",
            "Epoch 50/100\n",
            "125/125 [==============================] - 4s 31ms/step - loss: 0.3195 - accuracy: 0.9152 - val_loss: 0.3052 - val_accuracy: 0.9234\n",
            "Epoch 51/100\n",
            "125/125 [==============================] - 4s 31ms/step - loss: 0.3250 - accuracy: 0.9137 - val_loss: 0.3038 - val_accuracy: 0.9228\n",
            "Epoch 52/100\n",
            "125/125 [==============================] - 4s 31ms/step - loss: 0.3148 - accuracy: 0.9163 - val_loss: 0.3036 - val_accuracy: 0.9238\n",
            "Epoch 53/100\n",
            "125/125 [==============================] - 4s 31ms/step - loss: 0.3177 - accuracy: 0.9155 - val_loss: 0.3031 - val_accuracy: 0.9229\n",
            "Epoch 54/100\n",
            "125/125 [==============================] - 4s 31ms/step - loss: 0.3152 - accuracy: 0.9159 - val_loss: 0.3017 - val_accuracy: 0.9236\n",
            "Epoch 55/100\n",
            "125/125 [==============================] - 4s 31ms/step - loss: 0.3141 - accuracy: 0.9161 - val_loss: 0.3010 - val_accuracy: 0.9233\n",
            "Epoch 56/100\n",
            "125/125 [==============================] - 4s 31ms/step - loss: 0.3066 - accuracy: 0.9180 - val_loss: 0.3003 - val_accuracy: 0.9232\n",
            "Epoch 57/100\n",
            "125/125 [==============================] - 4s 31ms/step - loss: 0.3158 - accuracy: 0.9153 - val_loss: 0.2982 - val_accuracy: 0.9246\n",
            "Epoch 58/100\n",
            "125/125 [==============================] - 4s 31ms/step - loss: 0.3024 - accuracy: 0.9189 - val_loss: 0.2976 - val_accuracy: 0.9256\n",
            "Epoch 59/100\n",
            "125/125 [==============================] - 4s 31ms/step - loss: 0.3094 - accuracy: 0.9169 - val_loss: 0.2969 - val_accuracy: 0.9251\n",
            "Epoch 60/100\n",
            "125/125 [==============================] - 4s 31ms/step - loss: 0.3027 - accuracy: 0.9189 - val_loss: 0.2963 - val_accuracy: 0.9243\n",
            "Epoch 61/100\n",
            "125/125 [==============================] - 4s 31ms/step - loss: 0.3027 - accuracy: 0.9187 - val_loss: 0.2955 - val_accuracy: 0.9253\n",
            "Epoch 62/100\n",
            "125/125 [==============================] - 4s 31ms/step - loss: 0.3004 - accuracy: 0.9200 - val_loss: 0.2945 - val_accuracy: 0.9269\n",
            "Epoch 63/100\n",
            "125/125 [==============================] - 4s 31ms/step - loss: 0.2995 - accuracy: 0.9199 - val_loss: 0.2937 - val_accuracy: 0.9255\n",
            "Epoch 64/100\n",
            "125/125 [==============================] - 4s 31ms/step - loss: 0.2968 - accuracy: 0.9210 - val_loss: 0.2930 - val_accuracy: 0.9274\n",
            "Epoch 65/100\n",
            "125/125 [==============================] - 4s 31ms/step - loss: 0.2985 - accuracy: 0.9207 - val_loss: 0.2922 - val_accuracy: 0.9271\n",
            "Epoch 66/100\n",
            "125/125 [==============================] - 4s 31ms/step - loss: 0.3055 - accuracy: 0.9187 - val_loss: 0.2917 - val_accuracy: 0.9274\n",
            "Epoch 67/100\n",
            "125/125 [==============================] - 4s 31ms/step - loss: 0.2954 - accuracy: 0.9211 - val_loss: 0.2900 - val_accuracy: 0.9271\n",
            "Epoch 68/100\n",
            "125/125 [==============================] - 4s 31ms/step - loss: 0.2958 - accuracy: 0.9213 - val_loss: 0.2897 - val_accuracy: 0.9280\n",
            "Epoch 69/100\n",
            "125/125 [==============================] - 4s 31ms/step - loss: 0.2942 - accuracy: 0.9217 - val_loss: 0.2896 - val_accuracy: 0.9287\n",
            "Epoch 70/100\n",
            "125/125 [==============================] - 4s 31ms/step - loss: 0.2919 - accuracy: 0.9221 - val_loss: 0.2881 - val_accuracy: 0.9283\n",
            "Epoch 71/100\n",
            "125/125 [==============================] - 4s 31ms/step - loss: 0.2904 - accuracy: 0.9226 - val_loss: 0.2873 - val_accuracy: 0.9286\n",
            "Epoch 72/100\n",
            "125/125 [==============================] - 4s 31ms/step - loss: 0.2913 - accuracy: 0.9218 - val_loss: 0.2870 - val_accuracy: 0.9291\n",
            "Epoch 73/100\n",
            "125/125 [==============================] - 4s 31ms/step - loss: 0.2959 - accuracy: 0.9207 - val_loss: 0.2869 - val_accuracy: 0.9288\n",
            "Epoch 74/100\n",
            "125/125 [==============================] - 4s 31ms/step - loss: 0.2874 - accuracy: 0.9230 - val_loss: 0.2860 - val_accuracy: 0.9297\n",
            "Epoch 75/100\n",
            "125/125 [==============================] - 4s 31ms/step - loss: 0.2853 - accuracy: 0.9232 - val_loss: 0.2850 - val_accuracy: 0.9287\n",
            "Epoch 76/100\n",
            "125/125 [==============================] - 4s 31ms/step - loss: 0.2911 - accuracy: 0.9218 - val_loss: 0.2840 - val_accuracy: 0.9301\n",
            "Epoch 77/100\n",
            "125/125 [==============================] - 4s 31ms/step - loss: 0.2857 - accuracy: 0.9230 - val_loss: 0.2829 - val_accuracy: 0.9299\n",
            "Epoch 78/100\n",
            "125/125 [==============================] - 4s 31ms/step - loss: 0.2854 - accuracy: 0.9232 - val_loss: 0.2829 - val_accuracy: 0.9302\n",
            "Epoch 79/100\n",
            "125/125 [==============================] - 4s 31ms/step - loss: 0.2905 - accuracy: 0.9218 - val_loss: 0.2826 - val_accuracy: 0.9304\n",
            "Epoch 80/100\n",
            "125/125 [==============================] - 4s 31ms/step - loss: 0.2795 - accuracy: 0.9247 - val_loss: 0.2820 - val_accuracy: 0.9305\n",
            "Epoch 81/100\n",
            "125/125 [==============================] - 4s 32ms/step - loss: 0.2817 - accuracy: 0.9240 - val_loss: 0.2807 - val_accuracy: 0.9309\n",
            "Epoch 82/100\n",
            "125/125 [==============================] - 4s 31ms/step - loss: 0.2811 - accuracy: 0.9240 - val_loss: 0.2808 - val_accuracy: 0.9303\n",
            "Epoch 83/100\n",
            "125/125 [==============================] - 4s 31ms/step - loss: 0.2799 - accuracy: 0.9243 - val_loss: 0.2802 - val_accuracy: 0.9307\n",
            "Epoch 84/100\n",
            "125/125 [==============================] - 4s 31ms/step - loss: 0.2833 - accuracy: 0.9234 - val_loss: 0.2790 - val_accuracy: 0.9315\n",
            "Epoch 85/100\n",
            "125/125 [==============================] - 4s 31ms/step - loss: 0.2806 - accuracy: 0.9244 - val_loss: 0.2786 - val_accuracy: 0.9314\n",
            "Epoch 86/100\n",
            "125/125 [==============================] - 4s 31ms/step - loss: 0.2753 - accuracy: 0.9252 - val_loss: 0.2782 - val_accuracy: 0.9321\n",
            "Epoch 87/100\n",
            "125/125 [==============================] - 4s 31ms/step - loss: 0.2766 - accuracy: 0.9255 - val_loss: 0.2778 - val_accuracy: 0.9316\n",
            "Epoch 88/100\n",
            "125/125 [==============================] - 4s 31ms/step - loss: 0.2792 - accuracy: 0.9245 - val_loss: 0.2769 - val_accuracy: 0.9319\n",
            "Epoch 89/100\n",
            "125/125 [==============================] - 4s 31ms/step - loss: 0.2756 - accuracy: 0.9258 - val_loss: 0.2761 - val_accuracy: 0.9320\n",
            "Epoch 90/100\n",
            "125/125 [==============================] - 4s 31ms/step - loss: 0.2738 - accuracy: 0.9262 - val_loss: 0.2752 - val_accuracy: 0.9322\n",
            "Epoch 91/100\n",
            "125/125 [==============================] - 4s 31ms/step - loss: 0.2740 - accuracy: 0.9260 - val_loss: 0.2745 - val_accuracy: 0.9324\n",
            "Epoch 92/100\n",
            "125/125 [==============================] - 4s 31ms/step - loss: 0.2758 - accuracy: 0.9258 - val_loss: 0.2745 - val_accuracy: 0.9329\n",
            "Epoch 93/100\n",
            "125/125 [==============================] - 4s 31ms/step - loss: 0.2718 - accuracy: 0.9267 - val_loss: 0.2736 - val_accuracy: 0.9335\n",
            "Epoch 94/100\n",
            "125/125 [==============================] - 4s 31ms/step - loss: 0.2698 - accuracy: 0.9272 - val_loss: 0.2735 - val_accuracy: 0.9328\n",
            "Epoch 95/100\n",
            "125/125 [==============================] - 4s 31ms/step - loss: 0.2722 - accuracy: 0.9266 - val_loss: 0.2727 - val_accuracy: 0.9328\n",
            "Epoch 96/100\n",
            "125/125 [==============================] - 4s 31ms/step - loss: 0.2686 - accuracy: 0.9279 - val_loss: 0.2718 - val_accuracy: 0.9331\n",
            "Epoch 97/100\n",
            "125/125 [==============================] - 4s 31ms/step - loss: 0.2690 - accuracy: 0.9277 - val_loss: 0.2712 - val_accuracy: 0.9337\n",
            "Epoch 98/100\n",
            "125/125 [==============================] - 4s 31ms/step - loss: 0.2685 - accuracy: 0.9279 - val_loss: 0.2709 - val_accuracy: 0.9341\n",
            "Epoch 99/100\n",
            "125/125 [==============================] - 4s 31ms/step - loss: 0.2684 - accuracy: 0.9282 - val_loss: 0.2706 - val_accuracy: 0.9345\n",
            "Epoch 100/100\n",
            "125/125 [==============================] - 4s 31ms/step - loss: 0.2655 - accuracy: 0.9292 - val_loss: 0.2699 - val_accuracy: 0.9347\n"
          ],
          "name": "stdout"
        },
        {
          "output_type": "stream",
          "text": [
            "WARNING:absl:Found untraced functions such as lstm_cell_4_layer_call_fn, lstm_cell_4_layer_call_and_return_conditional_losses, lstm_cell_5_layer_call_fn, lstm_cell_5_layer_call_and_return_conditional_losses, lstm_cell_4_layer_call_fn while saving (showing 5 of 10). These functions will not be directly callable after loading.\n",
            "WARNING:absl:Found untraced functions such as lstm_cell_4_layer_call_fn, lstm_cell_4_layer_call_and_return_conditional_losses, lstm_cell_5_layer_call_fn, lstm_cell_5_layer_call_and_return_conditional_losses, lstm_cell_4_layer_call_fn while saving (showing 5 of 10). These functions will not be directly callable after loading.\n"
          ],
          "name": "stderr"
        },
        {
          "output_type": "stream",
          "text": [
            "INFO:tensorflow:Assets written to: E2S/assets\n"
          ],
          "name": "stdout"
        },
        {
          "output_type": "stream",
          "text": [
            "INFO:tensorflow:Assets written to: E2S/assets\n"
          ],
          "name": "stderr"
        }
      ]
    },
    {
      "cell_type": "code",
      "metadata": {
        "id": "qBw0UxjuRLLS"
      },
      "source": [
        "encoder_inputs = model.input[0]  # input_1\n",
        "encoder_outputs, state_h_enc, state_c_enc = model.layers[2].output  # lstm_1\n",
        "encoder_states = [state_h_enc, state_c_enc]\n",
        "encoder_model = keras.Model(encoder_inputs, encoder_states)"
      ],
      "execution_count": null,
      "outputs": []
    },
    {
      "cell_type": "code",
      "metadata": {
        "id": "rRPSF3ZUNR6K"
      },
      "source": [
        "decoder_inputs = model.input[1]  # input_2\n",
        "decoder_state_input_h = keras.Input(shape=(latent_dim,), name=\"input_3\")\n",
        "decoder_state_input_c = keras.Input(shape=(latent_dim,), name=\"input_4\")\n",
        "decoder_states_inputs = [decoder_state_input_h, decoder_state_input_c]\n",
        "decoder_lstm = model.layers[3]\n",
        "decoder_outputs, state_h_dec, state_c_dec = decoder_lstm(\n",
        "    decoder_inputs, initial_state=decoder_states_inputs\n",
        ")\n",
        "decoder_states = [state_h_dec, state_c_dec]\n",
        "decoder_dense = model.layers[4]\n",
        "decoder_outputs = decoder_dense(decoder_outputs)\n",
        "decoder_model = keras.Model(\n",
        "    [decoder_inputs] + decoder_states_inputs, [decoder_outputs] + decoder_states\n",
        ")"
      ],
      "execution_count": null,
      "outputs": []
    },
    {
      "cell_type": "code",
      "metadata": {
        "id": "Ch3PjS07QhJh"
      },
      "source": [
        "reverse_input_char_index = dict((i, char) for char, i in input_token_index.items())\n",
        "reverse_target_char_index = dict((i, char) for char, i in target_token_index.items())"
      ],
      "execution_count": null,
      "outputs": []
    },
    {
      "cell_type": "code",
      "metadata": {
        "id": "liA5oTzsQkD7"
      },
      "source": [
        "def inference_translater(english_input):\n",
        "    \n",
        "    encoder_states = encoder_model.predict(english_input)\n",
        "\n",
        "    japanese_seq = np.zeros((1, 1, num_decoder_tokens))\n",
        "    japanese_seq[0, 0, target_token_index[\"\\t\"]] = 1.\n",
        "    \n",
        "    stop_condition = False\n",
        "    japanese_output = \"\"\n",
        "    while not stop_condition:\n",
        "        output_tokens, h, c = decoder_model.predict([japanese_seq] + encoder_states)\n",
        "        sampled_token_index = np.argmax(output_tokens[0, -1, :])\n",
        "        sampled_char = reverse_target_char_index[sampled_token_index]\n",
        "        japanese_output += sampled_char\n",
        "\n",
        "        # Exit condition: either hit max length or find stop character.\n",
        "        if (sampled_char == \"\\n\" or len(japanese_output) > max_decoder_seq_length):\n",
        "            stop_condition = True\n",
        "\n",
        "        japanese_seq = np.zeros((1, 1, num_decoder_tokens))\n",
        "        japanese_seq[0, 0, sampled_token_index] = 1.\n",
        "\n",
        "        encoder_states = [h, c]\n",
        "\n",
        "    return japanese_output"
      ],
      "execution_count": 88,
      "outputs": []
    },
    {
      "cell_type": "code",
      "metadata": {
        "colab": {
          "base_uri": "https://localhost:8080/"
        },
        "id": "Up2mtugNQngJ",
        "outputId": "ccb898d8-6364-402a-cc6e-b190b0546532"
      },
      "source": [
        "#i = np.random.choice(len(input_texts))\n",
        "i = 114\n",
        "input_seq = encoder_input_data[i:i+1]\n",
        "#print(input_seq)\n",
        "# translation = decode_sequence(input_seq)\n",
        "# print('-')\n",
        "# print('Input:', input_texts[i])\n",
        "# print('Translation:', translation)\n",
        "\n",
        "#input = \"read n\"\n",
        "translation = inference_translater(input_seq)\n",
        "print('Input:', input_texts[i])\n",
        "print('Translation:', translation)"
      ],
      "execution_count": 112,
      "outputs": [
        {
          "output_type": "stream",
          "text": [
            "Input: create integer n\n",
            "Translation: int main() {\n",
            "\n"
          ],
          "name": "stdout"
        }
      ]
    },
    {
      "cell_type": "code",
      "metadata": {
        "colab": {
          "base_uri": "https://localhost:8080/"
        },
        "id": "BDnYn8TUjqU6",
        "outputId": "87166b1b-c012-4d0e-a3f0-f7c11463ce80"
      },
      "source": [
        "encoder_input_data[7820]"
      ],
      "execution_count": 108,
      "outputs": [
        {
          "output_type": "execute_result",
          "data": {
            "text/plain": [
              "array([[0., 0., 0., ..., 0., 0., 0.],\n",
              "       [0., 0., 0., ..., 0., 0., 0.],\n",
              "       [0., 0., 0., ..., 0., 0., 0.],\n",
              "       ...,\n",
              "       [1., 0., 0., ..., 0., 0., 0.],\n",
              "       [1., 0., 0., ..., 0., 0., 0.],\n",
              "       [1., 0., 0., ..., 0., 0., 0.]], dtype=float32)"
            ]
          },
          "metadata": {
            "tags": []
          },
          "execution_count": 108
        }
      ]
    },
    {
      "cell_type": "code",
      "metadata": {
        "id": "ZHtHWulukA27"
      },
      "source": [
        ""
      ],
      "execution_count": null,
      "outputs": []
    }
  ]
}