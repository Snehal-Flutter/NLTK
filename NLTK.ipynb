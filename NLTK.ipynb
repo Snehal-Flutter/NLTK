{
  "nbformat": 4,
  "nbformat_minor": 0,
  "metadata": {
    "colab": {
      "name": "NLTK.ipynb",
      "provenance": [],
      "collapsed_sections": []
    },
    "kernelspec": {
      "name": "python3",
      "display_name": "Python 3"
    }
  },
  "cells": [
    {
      "cell_type": "code",
      "metadata": {
        "colab": {
          "base_uri": "https://localhost:8080/"
        },
        "id": "ts4rJHU6xFaC",
        "outputId": "f549e412-d17a-4cda-b3bc-8bd221b06a3a"
      },
      "source": [
        "import nltk\n",
        "nltk.download('punkt')\n",
        "nltk.download('averaged_perceptron_tagger')\n",
        "nltk.download('maxent_ne_chunker')\n",
        "nltk.download('words')\n",
        "nltk.download('treebank')"
      ],
      "execution_count": null,
      "outputs": [
        {
          "output_type": "stream",
          "text": [
            "[nltk_data] Downloading package punkt to /root/nltk_data...\n",
            "[nltk_data]   Unzipping tokenizers/punkt.zip.\n",
            "[nltk_data] Downloading package averaged_perceptron_tagger to\n",
            "[nltk_data]     /root/nltk_data...\n",
            "[nltk_data]   Unzipping taggers/averaged_perceptron_tagger.zip.\n",
            "[nltk_data] Downloading package maxent_ne_chunker to\n",
            "[nltk_data]     /root/nltk_data...\n",
            "[nltk_data]   Unzipping chunkers/maxent_ne_chunker.zip.\n",
            "[nltk_data] Downloading package words to /root/nltk_data...\n",
            "[nltk_data]   Unzipping corpora/words.zip.\n",
            "[nltk_data] Downloading package treebank to /root/nltk_data...\n",
            "[nltk_data]   Unzipping corpora/treebank.zip.\n"
          ],
          "name": "stdout"
        },
        {
          "output_type": "execute_result",
          "data": {
            "text/plain": [
              "True"
            ]
          },
          "metadata": {
            "tags": []
          },
          "execution_count": 1
        }
      ]
    },
    {
      "cell_type": "code",
      "metadata": {
        "colab": {
          "base_uri": "https://localhost:8080/"
        },
        "id": "y4NaEl9mzYmC",
        "outputId": "1316a83b-24f7-41e9-f630-880c5b91e8a1"
      },
      "source": [
        "sentence = \"If student's grade is greaterthanorequal to 60\"\n",
        "\n",
        "#tokenization\n",
        "tokens = nltk.word_tokenize(sentence)\n",
        "print(tokens)\n",
        "\n",
        "tagged = nltk.pos_tag(tokens)\n",
        "print(tagged)"
      ],
      "execution_count": null,
      "outputs": [
        {
          "output_type": "stream",
          "text": [
            "['If', 'student', \"'s\", 'grade', 'is', 'greaterthanorequal', 'to', '60']\n",
            "[('If', 'IN'), ('student', 'NN'), (\"'s\", 'POS'), ('grade', 'NN'), ('is', 'VBZ'), ('greaterthanorequal', 'JJ'), ('to', 'TO'), ('60', 'CD')]\n"
          ],
          "name": "stdout"
        }
      ]
    },
    {
      "cell_type": "code",
      "metadata": {
        "colab": {
          "base_uri": "https://localhost:8080/"
        },
        "id": "U07twElCzqdv",
        "outputId": "24b7b14a-4dec-4127-8e42-867e69484a1b"
      },
      "source": [
        "#Custom Tagging\n",
        "nltk.download('maxent_treebank_pos_tagger')\n",
        "default_tagger = nltk.data.load(\"taggers/maxent_treebank_pos_tagger/english.pickle\")\n",
        "num_patterns = r'^[0-9]+(.[0-9]+)?$'\n",
        "var_patterns = r'\\w_*'\n",
        "model = {'for': 'for (', 'while' : 'while (','if' : 'if (' , 'else' : '} \\nelse {','=' : '=', 'to' : '' , 'print' : 'print (','greater than or equal to' : '>=' , 'less than or equal to' : '<=', 'equal to' : '=' , '<=' : '<=' , '>=' : '>=' , '>' : '>' , '<' : '<' , 'greater than' : '>' , 'less than' : '<', 'endif' : '}', 'iterate' : 'for (' , 'endfor' : '}', 'endwhile' : '}', 'let' : 'var','endprocedure': '}','declare' : 'var' , 'initialize' : 'var' , '+' : '+', '-' : '-', 'x' : 'x', '/' : '/',\" \" : \" \" , 'procedure' : 'function' , 'begin' : '{'}\n",
        "tagger = nltk.tag.UnigramTagger(model = model , backoff = default_tagger)"
      ],
      "execution_count": null,
      "outputs": [
        {
          "output_type": "stream",
          "text": [
            "[nltk_data] Downloading package maxent_treebank_pos_tagger to\n",
            "[nltk_data]     /root/nltk_data...\n",
            "[nltk_data]   Package maxent_treebank_pos_tagger is already up-to-\n",
            "[nltk_data]       date!\n"
          ],
          "name": "stdout"
        }
      ]
    },
    {
      "cell_type": "code",
      "metadata": {
        "colab": {
          "base_uri": "https://localhost:8080/"
        },
        "id": "9N5W3eGG13Qu",
        "outputId": "82ffa29d-fac7-4c0d-ae43-1cb18183573f"
      },
      "source": [
        "import re\n",
        "# Opening file\n",
        "\n",
        "def forcontroller(st):\n",
        "  l = st.split()\n",
        "  var = l[2]\n",
        "  if  l[5] > l[4]:\n",
        "    con = \" <= \"\n",
        "    inc  = \"++\"\n",
        "  else:\n",
        "    con = \">=\"\n",
        "    inc = \"--\"\n",
        "  st1 = \"\"\n",
        "  a= \"\"\n",
        "  for e in l:\n",
        "    if a == \"\":\n",
        "      if re.match(num_patterns, e):\n",
        "        a = e\n",
        "        st1 = st1 + e + \"; \"\n",
        "      else:\n",
        "        st1 = st1 + e + \" \"\n",
        "    else:\n",
        "      st1 = st1 + var + con + e + \"; \" + var + inc\n",
        "  return st1\n",
        "\n",
        "  #st1 = l[0] + l[1] + l[2] + l[3] + [4] + \";\" + l[2] + con + l[5] + l[2] + \"++\"\n",
        "  print(st1)\n",
        "\n",
        "file1 = open('f.txt', 'r')\n",
        "count = 0\n",
        " \n",
        "for line in file1:\n",
        "    count += 1\n",
        "    s = line\n",
        "    tokens = nltk.word_tokenize(s)\n",
        "    #print(tokens)\n",
        "    tagged = tagger.tag(tokens)\n",
        "    #print(tagged)\n",
        "    user_variable = \"\"\n",
        "    num = \"\"\n",
        "    condition = \"\"\n",
        "\n",
        "    for e in tagged:\n",
        "      if e[0] in model:\n",
        "        pass\n",
        "      else:\n",
        "        key = e[0]\n",
        "        #print(key)\n",
        "        model[key] = key\n",
        "    #print(model)\n",
        "    #print(model)\n",
        "    tagger = nltk.tag.UnigramTagger(model=model, backoff=default_tagger)\n",
        "    s = s\n",
        "    tokens = nltk.word_tokenize(s)\n",
        "    #print(tokens)\n",
        "    tagged = tagger.tag(tokens)\n",
        "    #print(tagged)\n",
        "    st = \"\"\n",
        "    # for e in tagged:\n",
        "    #   if \n",
        "    if e[1] != '}':\n",
        "      for e in tagged:\n",
        "        st = st + e[1] +\" \"\n",
        "      if 'if' in st:\n",
        "        st = st + \") {\"\n",
        "      elif 'for' in st:\n",
        "        st = forcontroller(st)\n",
        "        st = st + \") {\"\n",
        "      elif 'while' in st:\n",
        "        st = st + \") {\"\n",
        "      elif 'print' in st:\n",
        "        st = st + \");\"\n",
        "      elif 'function' in st:\n",
        "        st = st + \"{\"\n",
        "    else:\n",
        "      st = st + e[1]\n",
        "    print(st)\n",
        "\n",
        "# Closing files\n",
        "file1.close()"
      ],
      "execution_count": null,
      "outputs": [
        {
          "output_type": "stream",
          "text": [
            "var a = 100 \n",
            "for ( i = 100; i>=10; i--) {\n",
            "print ( i );\n",
            "}\n",
            "if ( i > 10 ) {\n",
            "if ( a < b ) {\n",
            "a ( c , d ) \n",
            "} \n",
            "else { \n",
            "b ( ) \n",
            "while ( true ) {\n",
            "a = a + b \n",
            "}\n",
            "}\n",
            "}\n",
            "function a ( inp1 , inp2 ) {\n",
            "c = inp1 + inp2 \n",
            "}\n",
            "}\n",
            "function average {\n",
            "var counter = 0 , sum = 0 \n",
            "while ( counter < 5 ) {\n",
            "read mark \n",
            "sum = sum + mark \n",
            "counter = counter + 1 \n",
            "}\n",
            "average = sum/5 \n",
            "print ( average );\n"
          ],
          "name": "stdout"
        }
      ]
    },
    {
      "cell_type": "code",
      "metadata": {
        "id": "QAYVH5nAXC4y"
      },
      "source": [
        ""
      ],
      "execution_count": null,
      "outputs": []
    }
  ]
}